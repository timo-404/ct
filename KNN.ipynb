{
 "cells": [
  {
   "cell_type": "code",
   "execution_count": 10,
   "metadata": {},
   "outputs": [],
   "source": [
    "import numpy as np\n",
    "from sklearn import datasets\n",
    "from sklearn.model_selection import train_test_split as tts"
   ]
  },
  {
   "cell_type": "code",
   "execution_count": 26,
   "metadata": {},
   "outputs": [],
   "source": [
    "def distance(x1, x2):\n",
    "    a = ((x1 - x2)**2).sum()\n",
    "    return np.sqrt(a)\n",
    "\n",
    "def knn_help(i, X_train, Y_train, k):\n",
    "    \n",
    "    dist = []\n",
    "    for j in range(X_train.shape[0]):\n",
    "        dist.append((distance(i,X_train[j]), Y_train[j]))\n",
    "    \n",
    "    dist = sorted(dist)\n",
    "    values = {}\n",
    "    \n",
    "    for j in range(k):\n",
    "        \n",
    "        if dist[j][1] not in values.keys():\n",
    "            values[dist[j][1]] = 0\n",
    "            \n",
    "        values[dist[j][1]] += 1\n",
    "    \n",
    "    label = None\n",
    "    occ = 0\n",
    "    for key in values.keys():\n",
    "        if values[key] > occ :\n",
    "            occ = values[key]\n",
    "            label = key\n",
    "    \n",
    "    return label\n",
    "\n",
    "def KNN(X_train, Y_train, X_test, k):\n",
    "    \n",
    "    Y_pred = []\n",
    "    for i in X_test:\n",
    "        label = knn_help(i, X_train, Y_train, k)\n",
    "        Y_pred.append(label)\n",
    "    \n",
    "    return Y_pred\n",
    "\n",
    "def accuracy(y_pred , y_test):\n",
    "    \n",
    "    a = ((y_pred == y_test).sum()).astype(int)\n",
    "    return a / y_test.shape[0]"
   ]
  },
  {
   "cell_type": "code",
   "execution_count": 27,
   "metadata": {},
   "outputs": [],
   "source": [
    "cancer=datasets.load_breast_cancer()\n",
    "\n",
    "x=cancer.data\n",
    "y=cancer.target\n",
    "\n",
    "x_train,x_test,y_train,y_test=tts(x,y, test_size = 0.2)"
   ]
  },
  {
   "cell_type": "code",
   "execution_count": 28,
   "metadata": {},
   "outputs": [],
   "source": [
    "y_pred = KNN(x_train, y_train, x_test, 3)"
   ]
  },
  {
   "cell_type": "code",
   "execution_count": 29,
   "metadata": {},
   "outputs": [
    {
     "data": {
      "text/plain": [
       "0.9298245614035088"
      ]
     },
     "execution_count": 29,
     "metadata": {},
     "output_type": "execute_result"
    }
   ],
   "source": [
    "accuracy(y_pred , y_test)"
   ]
  }
 ],
 "metadata": {
  "kernelspec": {
   "display_name": "Python 3",
   "language": "python",
   "name": "python3"
  },
  "language_info": {
   "codemirror_mode": {
    "name": "ipython",
    "version": 3
   },
   "file_extension": ".py",
   "mimetype": "text/x-python",
   "name": "python",
   "nbconvert_exporter": "python",
   "pygments_lexer": "ipython3",
   "version": "3.8.5"
  }
 },
 "nbformat": 4,
 "nbformat_minor": 4
}
