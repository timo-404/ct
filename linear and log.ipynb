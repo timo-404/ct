{
 "cells": [
  {
   "cell_type": "markdown",
   "metadata": {},
   "source": [
    "### 1. LINEAR REGRESSION ON BOSTON HOUSING DATASET"
   ]
  },
  {
   "cell_type": "code",
   "execution_count": 1,
   "metadata": {},
   "outputs": [],
   "source": [
    "import numpy as np\n",
    "from sklearn import preprocessing as pr\n",
    "from sklearn.model_selection import train_test_split as tts \n",
    "from sklearn import datasets\n",
    "import matplotlib.pyplot as plt"
   ]
  },
  {
   "cell_type": "code",
   "execution_count": 2,
   "metadata": {},
   "outputs": [],
   "source": [
    "data=np.loadtxt(\"boston_train.csv\",delimiter=\",\")"
   ]
  },
  {
   "cell_type": "code",
   "execution_count": 3,
   "metadata": {},
   "outputs": [
    {
     "data": {
      "text/plain": [
       "array([[-0.40784991, -0.48772236, -1.2660231 , ...,  0.41057102,\n",
       "        -1.09799011, 37.9       ],\n",
       "       [-0.40737368, -0.48772236,  0.24705682, ...,  0.29116915,\n",
       "        -0.52047412, 21.4       ],\n",
       "       [ 0.1251786 , -0.48772236,  1.01599907, ..., -3.79579542,\n",
       "         0.89107588, 12.7       ],\n",
       "       ...,\n",
       "       [-0.40831101, -0.48772236,  0.24705682, ...,  0.33206621,\n",
       "        -0.33404299, 20.8       ],\n",
       "       [-0.41061997, -0.48772236, -1.15221381, ...,  0.203235  ,\n",
       "        -0.74475218, 22.6       ],\n",
       "       [ 0.34290895, -0.48772236,  1.01599907, ...,  0.38787479,\n",
       "        -1.35871335, 50.        ]])"
      ]
     },
     "execution_count": 3,
     "metadata": {},
     "output_type": "execute_result"
    }
   ],
   "source": [
    "data"
   ]
  },
  {
   "cell_type": "code",
   "execution_count": 4,
   "metadata": {},
   "outputs": [
    {
     "data": {
      "text/plain": [
       "(379, 14)"
      ]
     },
     "execution_count": 4,
     "metadata": {},
     "output_type": "execute_result"
    }
   ],
   "source": [
    "data.shape"
   ]
  },
  {
   "cell_type": "code",
   "execution_count": 5,
   "metadata": {},
   "outputs": [],
   "source": [
    "x=data[:,:13]                   #input variables (13 variables)\n",
    "\n",
    "y=data[:,13]                    #output\n",
    "\n",
    "N=data.shape[1]                          #no. of variables(c=m14)\n",
    "m=data.shape[0]                          #no. of inputs\n",
    "\n",
    "scaler=pr.StandardScaler()\n",
    "scaler.fit(x)\n",
    "x=scaler.transform(x)\n",
    "\n",
    "temp=np.ones(m)\n",
    "x_nplus1=temp.reshape(m,1)\n",
    "x=np.append(x,x_nplus1,axis=1)"
   ]
  },
  {
   "cell_type": "code",
   "execution_count": 6,
   "metadata": {},
   "outputs": [],
   "source": [
    "X_train, X_test, Y_train, Y_test = tts(x, y, test_size = 0.2)"
   ]
  },
  {
   "cell_type": "code",
   "execution_count": 7,
   "metadata": {},
   "outputs": [
    {
     "data": {
      "text/plain": [
       "(379,)"
      ]
     },
     "execution_count": 7,
     "metadata": {},
     "output_type": "execute_result"
    }
   ],
   "source": [
    "y.shape"
   ]
  },
  {
   "cell_type": "code",
   "execution_count": 8,
   "metadata": {},
   "outputs": [],
   "source": [
    "def update(i, M,alpha):\n",
    "\n",
    "    sigma_val=np.dot(X_train,M)                     #sigma(m[i]x[i][j]) for j=1 to N\n",
    "    sigma_val=Y_train-sigma_val    \n",
    "    total_sigma=np.dot(X_train.transpose(),sigma_val)     #[sigma(x[i][j]) for i=1 to m]*[sigma_val]\n",
    "    error = (0.5/m) * (sigma_val.sum())**2\n",
    "    print('for iteration {}, error is {}'.format(i, error))\n",
    "    M=M+2*(alpha/m)*total_sigma\n",
    "    \n",
    "    return M\n",
    "    \n",
    "\n",
    "def gradient_descent():\n",
    "    \n",
    "    M=np.random.rand(N)\n",
    "    alpha=0.01\n",
    "    iterations=2000\n",
    "    \n",
    "    for i in range(iterations):\n",
    "        M=update(i + 1, M,alpha)\n",
    "        \n",
    "    return M"
   ]
  },
  {
   "cell_type": "code",
   "execution_count": 9,
   "metadata": {},
   "outputs": [],
   "source": [
    "def predictions():\n",
    "    \n",
    "    \n",
    "    M=gradient_descent()\n",
    "    Y_pred=np.dot(X_test,M)\n",
    "    \n",
    "    return Y_pred"
   ]
  },
  {
   "cell_type": "code",
   "execution_count": 10,
   "metadata": {},
   "outputs": [
    {
     "name": "stdout",
     "output_type": "stream",
     "text": [
      "for iteration 1, error is 56987.095824230375\n",
      "for iteration 2, error is 55236.56660049054\n",
      "for iteration 3, error is 53534.074495716595\n",
      "for iteration 4, error is 51878.98739575861\n",
      "for iteration 5, error is 50270.59086932802\n",
      "for iteration 6, error is 48708.10230603174\n",
      "for iteration 7, error is 47190.68333267389\n",
      "for iteration 8, error is 45717.45069898906\n",
      "for iteration 9, error is 44287.485804046235\n",
      "for iteration 10, error is 42899.84301651905\n",
      "for iteration 11, error is 41553.55692571646\n",
      "for iteration 12, error is 40247.648645572044\n",
      "for iteration 13, error is 38981.13128056598\n",
      "for iteration 14, error is 37753.01465067509\n",
      "for iteration 15, error is 36562.309361789594\n",
      "for iteration 16, error is 35408.030298490216\n",
      "for iteration 17, error is 34289.19960753817\n",
      "for iteration 18, error is 33204.8492327967\n",
      "for iteration 19, error is 32154.023055486865\n",
      "for iteration 20, error is 31135.778687599057\n",
      "for iteration 21, error is 30149.188960861335\n",
      "for iteration 22, error is 29193.34314883685\n",
      "for iteration 23, error is 28267.347955425004\n",
      "for iteration 24, error is 27370.32829921726\n",
      "for iteration 25, error is 26501.427919758484\n",
      "for iteration 26, error is 25659.809828745136\n",
      "for iteration 27, error is 24844.656626507265\n",
      "for iteration 28, error is 24055.17070174054\n",
      "for iteration 29, error is 23290.574330340336\n",
      "for iteration 30, error is 22550.109687316188\n",
      "for iteration 31, error is 21833.03878410184\n",
      "for iteration 32, error is 21138.643342104435\n",
      "for iteration 33, error is 20466.224612030735\n",
      "for iteration 34, error is 19815.10314737309\n",
      "for iteration 35, error is 19184.618539415074\n",
      "for iteration 36, error is 18574.129120211815\n",
      "for iteration 37, error is 17983.011639199147\n",
      "for iteration 38, error is 17410.66091837829\n",
      "for iteration 39, error is 16856.48949039726\n",
      "for iteration 40, error is 16319.927223297484\n",
      "for iteration 41, error is 15800.420935206348\n",
      "for iteration 42, error is 15297.434001825695\n",
      "for iteration 43, error is 14810.445959186722\n",
      "for iteration 44, error is 14338.952103806621\n",
      "for iteration 45, error is 13882.463092087306\n",
      "for iteration 46, error is 13440.504540537018\n",
      "for iteration 47, error is 13012.61662816675\n",
      "for iteration 48, error is 12598.353702212597\n",
      "for iteration 49, error is 12197.283888158585\n",
      "for iteration 50, error is 11808.98870487947\n",
      "for iteration 51, error is 11433.06268558731\n",
      "for iteration 52, error is 11069.113005146282\n",
      "for iteration 53, error is 10716.75911421654\n",
      "for iteration 54, error is 10375.632380596582\n",
      "for iteration 55, error is 10045.375738054556\n",
      "for iteration 56, error is 9725.643342869698\n",
      "for iteration 57, error is 9416.100238245153\n",
      "for iteration 58, error is 9116.422026701499\n",
      "for iteration 59, error is 8826.294550515056\n",
      "for iteration 60, error is 8545.41358022649\n",
      "for iteration 61, error is 8273.484511211735\n",
      "for iteration 62, error is 8010.222068278723\n",
      "for iteration 63, error is 7755.3500182290945\n",
      "for iteration 64, error is 7508.600890303398\n",
      "for iteration 65, error is 7269.715704410903\n",
      "for iteration 66, error is 7038.443707030617\n",
      "for iteration 67, error is 6814.542114658087\n",
      "for iteration 68, error is 6597.77586466262\n",
      "for iteration 69, error is 6387.917373411712\n",
      "for iteration 70, error is 6184.746301513156\n",
      "for iteration 71, error is 5988.049326020431\n",
      "for iteration 72, error is 5797.6199194434375\n",
      "for iteration 73, error is 5613.258135404165\n",
      "for iteration 74, error is 5434.770400775335\n",
      "for iteration 75, error is 5261.969314139373\n",
      "for iteration 76, error is 5094.6734504049555\n",
      "for iteration 77, error is 4932.707171419129\n",
      "for iteration 78, error is 4775.900442413956\n",
      "for iteration 79, error is 4624.088654128222\n",
      "for iteration 80, error is 4477.112450446699\n",
      "for iteration 81, error is 4334.817561401602\n",
      "for iteration 82, error is 4197.05464138338\n",
      "for iteration 83, error is 4063.6791124106685\n",
      "for iteration 84, error is 3934.551012312076\n",
      "for iteration 85, error is 3809.534847675441\n",
      "for iteration 86, error is 3688.499451423341\n",
      "for iteration 87, error is 3571.3178448767385\n",
      "for iteration 88, error is 3457.867104171957\n",
      "for iteration 89, error is 3348.028230899334\n",
      "for iteration 90, error is 3241.686026835305\n",
      "for iteration 91, error is 3138.728972642831\n",
      "for iteration 92, error is 3039.0491104184675\n",
      "for iteration 93, error is 2942.541929967552\n",
      "for iteration 94, error is 2849.106258692256\n",
      "for iteration 95, error is 2758.644154980404\n",
      "for iteration 96, error is 2671.0608049861444\n",
      "for iteration 97, error is 2586.264422696646\n",
      "for iteration 98, error is 2504.166153182009\n",
      "for iteration 99, error is 2424.679978928605\n",
      "for iteration 100, error is 2347.7226291589886\n",
      "for iteration 101, error is 2273.213492044348\n",
      "for iteration 102, error is 2201.0745297183043\n",
      "for iteration 103, error is 2131.2301960036257\n",
      "for iteration 104, error is 2063.607356766026\n",
      "for iteration 105, error is 1998.1352128118735\n",
      "for iteration 106, error is 1934.7452252492035\n",
      "for iteration 107, error is 1873.3710432337998\n",
      "for iteration 108, error is 1813.948434024652\n",
      "for iteration 109, error is 1756.4152152753143\n",
      "for iteration 110, error is 1700.7111894900552\n",
      "for iteration 111, error is 1646.7780805758666\n",
      "for iteration 112, error is 1594.5594724235395\n",
      "for iteration 113, error is 1544.000749453148\n",
      "for iteration 114, error is 1495.049039061255\n",
      "for iteration 115, error is 1447.6531559091711\n",
      "for iteration 116, error is 1401.7635479934881\n",
      "for iteration 117, error is 1357.3322444419452\n",
      "for iteration 118, error is 1314.312804979533\n",
      "for iteration 119, error is 1272.6602710114207\n",
      "for iteration 120, error is 1232.3311182710615\n",
      "for iteration 121, error is 1193.2832109833832\n",
      "for iteration 122, error is 1155.4757574946298\n",
      "for iteration 123, error is 1118.8692673219266\n",
      "for iteration 124, error is 1083.4255095771518\n",
      "for iteration 125, error is 1049.1074727211196\n",
      "for iteration 126, error is 1015.8793256055075\n",
      "for iteration 127, error is 983.7063797613027\n",
      "for iteration 128, error is 952.5550528938636\n",
      "for iteration 129, error is 922.3928335459625\n",
      "for iteration 130, error is 893.1882468914141\n",
      "for iteration 131, error is 864.9108216230962\n",
      "for iteration 132, error is 837.5310579002867\n",
      "for iteration 133, error is 811.0203963214282\n",
      "for iteration 134, error is 785.3511878894695\n",
      "for iteration 135, error is 760.4966649379735\n",
      "for iteration 136, error is 736.4309129872503\n",
      "for iteration 137, error is 713.128843500717\n",
      "for iteration 138, error is 690.5661675126452\n",
      "for iteration 139, error is 668.7193700993972\n",
      "for iteration 140, error is 647.5656856671308\n",
      "for iteration 141, error is 627.0830740298288\n",
      "for iteration 142, error is 607.2501972523296\n",
      "for iteration 143, error is 588.0463972338702\n",
      "for iteration 144, error is 569.4516740084202\n",
      "for iteration 145, error is 551.4466647388557\n",
      "for iteration 146, error is 534.0126233827466\n",
      "for iteration 147, error is 517.1314010082547\n",
      "for iteration 148, error is 500.785426739326\n",
      "for iteration 149, error is 484.95768931002215\n",
      "for iteration 150, error is 469.631719208489\n",
      "for iteration 151, error is 454.7915713916802\n",
      "for iteration 152, error is 440.4218085525714\n",
      "for iteration 153, error is 426.5074849221582\n",
      "for iteration 154, error is 413.0341305891355\n",
      "for iteration 155, error is 399.9877363206739\n",
      "for iteration 156, error is 387.3547388682632\n",
      "for iteration 157, error is 375.1220067430798\n",
      "for iteration 158, error is 363.2768264458631\n",
      "for iteration 159, error is 351.8068891367494\n",
      "for iteration 160, error is 340.70027773098155\n",
      "for iteration 161, error is 329.9454544068634\n",
      "for iteration 162, error is 319.53124851277215\n",
      "for iteration 163, error is 309.44684486044923\n",
      "for iteration 164, error is 299.6817723922178\n",
      "for iteration 165, error is 290.22589321016045\n",
      "for iteration 166, error is 281.06939195567315\n",
      "for iteration 167, error is 272.2027655281877\n",
      "for iteration 168, error is 263.6168131322148\n",
      "for iteration 169, error is 255.3026266421977\n",
      "for iteration 170, error is 247.251581275021\n",
      "for iteration 171, error is 239.4553265603237\n",
      "for iteration 172, error is 231.90577759909186\n",
      "for iteration 173, error is 224.59510660132747\n",
      "for iteration 174, error is 217.5157346938398\n",
      "for iteration 175, error is 210.6603239895469\n",
      "for iteration 176, error is 204.02176990991623\n",
      "for iteration 177, error is 197.59319375243933\n",
      "for iteration 178, error is 191.36793549532538\n",
      "for iteration 179, error is 185.33954683181327\n",
      "for iteration 180, error is 179.501784426773\n",
      "for iteration 181, error is 173.84860338847997\n",
      "for iteration 182, error is 168.37415094869243\n",
      "for iteration 183, error is 163.07276034436748\n",
      "for iteration 184, error is 157.93894489457747\n",
      "for iteration 185, error is 152.96739226638232\n",
      "for iteration 186, error is 148.15295892361996\n",
      "for iteration 187, error is 143.4906647527721\n",
      "for iteration 188, error is 138.97568786024695\n",
      "for iteration 189, error is 134.60335953559473\n",
      "for iteration 190, error is 130.36915937536696\n",
      "for iteration 191, error is 126.26871056247354\n",
      "for iteration 192, error is 122.29777529607851\n",
      "for iteration 193, error is 118.4522503672226\n",
      "for iteration 194, error is 114.72816287551778\n",
      "for iteration 195, error is 111.12166608240862\n",
      "for iteration 196, error is 107.62903539663789\n",
      "for iteration 197, error is 104.24666448769119\n",
      "for iteration 198, error is 100.97106152313907\n",
      "for iteration 199, error is 97.79884552591597\n",
      "for iteration 200, error is 94.72674284770679\n"
     ]
    }
   ],
   "source": [
    "Y_pred = predictions()"
   ]
  },
  {
   "cell_type": "code",
   "execution_count": 11,
   "metadata": {},
   "outputs": [
    {
     "data": {
      "text/plain": [
       "0.671078739866718"
      ]
     },
     "execution_count": 11,
     "metadata": {},
     "output_type": "execute_result"
    }
   ],
   "source": [
    "a = ((Y_pred - Y_test)**2).sum()\n",
    "b = ((Y_test - Y_test.mean())**2).sum()\n",
    "r2 = 1 - (a/b)\n",
    "r2"
   ]
  },
  {
   "cell_type": "code",
   "execution_count": 12,
   "metadata": {},
   "outputs": [
    {
     "data": {
      "text/plain": [
       "[<matplotlib.lines.Line2D at 0x1da699e7f40>]"
      ]
     },
     "execution_count": 12,
     "metadata": {},
     "output_type": "execute_result"
    },
    {
     "data": {
      "image/png": "[encoded data removed]",
      "text/plain": [
       "<Figure size 432x288 with 1 Axes>"
      ]
     },
     "metadata": {
      "needs_background": "light"
     },
     "output_type": "display_data"
    }
   ],
   "source": [
    "plt.scatter(Y_test, Y_pred)\n",
    "x=np.linspace(0,50,5)\n",
    "plt.plot(x, x, 'r:')"
   ]
  },
  {
   "cell_type": "markdown",
   "metadata": {},
   "source": [
    "### 2. LOGISTIC REGRESSION ON BREAST CANCER DATASET"
   ]
  },
  {
   "cell_type": "code",
   "execution_count": 13,
   "metadata": {},
   "outputs": [],
   "source": [
    "cancer=datasets.load_breast_cancer()\n",
    "m=cancer.data.shape[0]\n",
    "N=cancer.data.shape[1] + 1\n",
    "\n",
    "x=cancer.data\n",
    "temp=np.ones(m)\n",
    "x_nplus1=temp.reshape(m,1)\n",
    "x=np.append(x,x_nplus1,axis=1)\n",
    "\n",
    "y=cancer.target"
   ]
  },
  {
   "cell_type": "code",
   "execution_count": 14,
   "metadata": {},
   "outputs": [],
   "source": [
    "x_train,x_test,y_train,y_test=tts(x,y, test_size = 0.2)"
   ]
  },
  {
   "cell_type": "code",
   "execution_count": 15,
   "metadata": {},
   "outputs": [],
   "source": [
    "def sigmoid(z):\n",
    "    return 1/(1+np.exp(-z))\n",
    "\n",
    "\n",
    "def update(i,M,alpha):\n",
    "    \n",
    "    temp=np.dot(x_train,M)          #m1x1+m2x2....\n",
    "    h_x=sigmoid(temp)\n",
    "    sigma_val=y_train-h_x\n",
    "    total_sigma=np.dot(x_train.transpose(),sigma_val)    #(yi-(m1x1+m2x2...)*x[i][j])\n",
    "    \n",
    "    M=M+(alpha/m)*total_sigma\n",
    "    \n",
    "    return M\n",
    "    \n",
    "def gradient_descent():\n",
    "        \n",
    "        alpha=0.01\n",
    "        iterations=1000\n",
    "        M=np.zeros(N)\n",
    "        \n",
    "        for i in range(iterations):\n",
    "            M=update(i,M,alpha)\n",
    "            \n",
    "        return M\n",
    "    \n",
    "def predictions():\n",
    "    \n",
    "    M=gradient_descent()\n",
    "    h_x=np.dot(x_test,M)\n",
    "    h_x=sigmoid(h_x)\n",
    "    y_pred =  (h_x >= 0.5).astype(int)\n",
    "            \n",
    "    return y_pred"
   ]
  },
  {
   "cell_type": "code",
   "execution_count": 16,
   "metadata": {},
   "outputs": [
    {
     "name": "stderr",
     "output_type": "stream",
     "text": [
      "<ipython-input-15-9b56f481de4e>:2: RuntimeWarning: overflow encountered in exp\n",
      "  return 1/(1+np.exp(-z))\n"
     ]
    }
   ],
   "source": [
    "y_pred = predictions()"
   ]
  },
  {
   "cell_type": "code",
   "execution_count": 17,
   "metadata": {},
   "outputs": [
    {
     "data": {
      "text/plain": [
       "0.9035087719298246"
      ]
     },
     "execution_count": 17,
     "metadata": {},
     "output_type": "execute_result"
    }
   ],
   "source": [
    "def score(y_pred,y_test):\n",
    "    u= (y_pred == y_test).sum()\n",
    "    v= y_pred.shape[0]\n",
    "    \n",
    "    return u/v\n",
    "\n",
    "score(y_pred,y_test)"
   ]
  }
 ],
 "metadata": {
  "kernelspec": {
   "display_name": "Python 3",
   "language": "python",
   "name": "python3"
  },
  "language_info": {
   "codemirror_mode": {
    "name": "ipython",
    "version": 3
   },
   "file_extension": ".py",
   "mimetype": "text/x-python",
   "name": "python",
   "nbconvert_exporter": "python",
   "pygments_lexer": "ipython3",
   "version": "3.8.5"
  }
 },
 "nbformat": 4,
 "nbformat_minor": 2
}
